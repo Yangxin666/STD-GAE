{
 "cells": [
  {
   "cell_type": "code",
   "execution_count": 77,
   "id": "42220656-7595-4865-bdff-51fea88f1f42",
   "metadata": {},
   "outputs": [],
   "source": [
    "import numpy as np\n",
    "from numpy.linalg import inv as inv\n",
    "\n",
    "def ten2mat(tensor, mode):\n",
    "    return np.reshape(np.moveaxis(tensor, mode, 0), (tensor.shape[mode], -1), order = 'F')"
   ]
  },
  {
   "cell_type": "code",
   "execution_count": 78,
   "id": "7a4255e3-40d5-4b09-ae1b-02c692c7bd65",
   "metadata": {},
   "outputs": [
    {
     "name": "stdout",
     "output_type": "stream",
     "text": [
      "tensor size:\n",
      "(3, 2, 4)\n",
      "original tensor:\n",
      "[[[ 1  2  3  4]\n",
      "  [ 3  4  5  6]]\n",
      "\n",
      " [[ 5  6  7  8]\n",
      "  [ 7  8  9 10]]\n",
      "\n",
      " [[ 9 10 11 12]\n",
      "  [11 12 13 14]]]\n",
      "\n",
      "(1) mode-1 tensor unfolding:\n",
      "[[ 1  3  2  4  3  5  4  6]\n",
      " [ 5  7  6  8  7  9  8 10]\n",
      " [ 9 11 10 12 11 13 12 14]]\n",
      "\n",
      "(2) mode-2 tensor unfolding:\n",
      "[[ 1  5  9  2  6 10  3  7 11  4  8 12]\n",
      " [ 3  7 11  4  8 12  5  9 13  6 10 14]]\n",
      "\n",
      "(3) mode-3 tensor unfolding:\n",
      "[[ 1  5  9  3  7 11]\n",
      " [ 2  6 10  4  8 12]\n",
      " [ 3  7 11  5  9 13]\n",
      " [ 4  8 12  6 10 14]]\n"
     ]
    }
   ],
   "source": [
    "X = np.array([[[1, 2, 3, 4], [3, 4, 5, 6]], \n",
    "              [[5, 6, 7, 8], [7, 8, 9, 10]], \n",
    "              [[9, 10, 11, 12], [11, 12, 13, 14]]])\n",
    "print('tensor size:')\n",
    "print(X.shape)\n",
    "print('original tensor:')\n",
    "print(X)\n",
    "print()\n",
    "print('(1) mode-1 tensor unfolding:')\n",
    "print(ten2mat(X, 0))\n",
    "print()\n",
    "print('(2) mode-2 tensor unfolding:')\n",
    "print(ten2mat(X, 1))\n",
    "print()\n",
    "print('(3) mode-3 tensor unfolding:')\n",
    "print(ten2mat(X, 2))"
   ]
  },
  {
   "cell_type": "code",
   "execution_count": 79,
   "id": "9916abd9-5b6e-48f7-9be8-06d8e07d99a5",
   "metadata": {},
   "outputs": [],
   "source": [
    "def mat2ten(mat, tensor_size, mode):\n",
    "    index = list()\n",
    "    index.append(mode)\n",
    "    for i in range(tensor_size.shape[0]):\n",
    "        if i != mode:\n",
    "            index.append(i)\n",
    "    return np.moveaxis(np.reshape(mat, list(tensor_size[index]), order = 'F'), 0, mode)"
   ]
  },
  {
   "cell_type": "code",
   "execution_count": 80,
   "id": "b707180e-2476-4b5c-80b4-3120de5166fd",
   "metadata": {},
   "outputs": [],
   "source": [
    "def svt_tnn(mat, alpha, rho, theta):\n",
    "    \"\"\"This is a Numpy dependent singular value thresholding (SVT) process.\"\"\"\n",
    "    u, s, v = np.linalg.svd(mat, full_matrices = 0)\n",
    "    vec = s.copy()\n",
    "    vec[theta :] = s[theta :] - alpha / rho\n",
    "    vec[vec < 0] = 0\n",
    "    return np.matmul(np.matmul(u, np.diag(vec)), v)"
   ]
  },
  {
   "cell_type": "code",
   "execution_count": 81,
   "id": "81999dc7-796c-4668-a675-803efbba9c8f",
   "metadata": {},
   "outputs": [],
   "source": [
    "def svt_tnn(mat, alpha, rho, theta):\n",
    "    tau = alpha / rho\n",
    "    [m, n] = mat.shape\n",
    "    if 2 * m < n:\n",
    "        u, s, v = np.linalg.svd(mat @ mat.T, full_matrices = 0)\n",
    "        s = np.sqrt(s)\n",
    "        idx = np.sum(s > tau)\n",
    "        mid = np.zeros(idx)\n",
    "        mid[:theta] = 1\n",
    "        mid[theta:idx] = (s[theta:idx] - tau) / s[theta:idx]\n",
    "        return (u[:, :idx] @ np.diag(mid)) @ (u[:, :idx].T @ mat)\n",
    "    elif m > 2 * n:\n",
    "        return svt_tnn(mat.T, tau, theta).T\n",
    "    u, s, v = np.linalg.svd(mat, full_matrices = 0)\n",
    "    idx = np.sum(s > tau)\n",
    "    vec = s[:idx].copy()\n",
    "    vec[theta:idx] = s[theta:idx] - tau\n",
    "    return u[:, :idx] @ np.diag(vec) @ v[:idx, :]"
   ]
  },
  {
   "cell_type": "code",
   "execution_count": 82,
   "id": "33e2dc83-4961-479f-bd78-11cedab3bbd2",
   "metadata": {},
   "outputs": [],
   "source": [
    "def compute_rmse(var, var_hat):\n",
    "    return np.sqrt(np.sum((var - var_hat) ** 2) / var.shape[0])"
   ]
  },
  {
   "cell_type": "code",
   "execution_count": 83,
   "id": "ccc599a9-f11a-48b4-9838-e1db32352bf7",
   "metadata": {},
   "outputs": [],
   "source": [
    "def compute_mae(var, var_hat):\n",
    "    return np.sum(np.abs(var - var_hat)) / var.shape[0]"
   ]
  },
  {
   "cell_type": "code",
   "execution_count": 84,
   "id": "0d18bd40-b6a6-4dbc-9a1b-7bcdd52f4e55",
   "metadata": {},
   "outputs": [],
   "source": [
    "def LRTC(dense_tensor, sparse_tensor, alpha, rho, theta, epsilon, maxiter):\n",
    "    \"\"\"Low-Rank Tenor Completion with Truncated Nuclear Norm, LRTC-TNN.\"\"\"\n",
    "    \n",
    "    dim = np.array(sparse_tensor.shape)\n",
    "    pos_missing = np.where(sparse_tensor == -1)\n",
    "    pos_test = np.where((dense_tensor != -1) & (sparse_tensor == -1))\n",
    "    \n",
    "    X = np.zeros(np.insert(dim, 0, len(dim))) # \\boldsymbol{\\mathcal{X}}\n",
    "    T = np.zeros(np.insert(dim, 0, len(dim))) # \\boldsymbol{\\mathcal{T}}\n",
    "    Z = sparse_tensor.copy()\n",
    "    last_tensor = sparse_tensor.copy()\n",
    "    snorm = np.sqrt(np.sum(sparse_tensor ** 2))\n",
    "    it = 0\n",
    "    while True:\n",
    "        print(it)\n",
    "        rho = min(rho * 1.05, 1e5)\n",
    "        for k in range(len(dim)):\n",
    "            X[k] = mat2ten(svt_tnn(ten2mat(Z - T[k] / rho, k), alpha[k], rho, np.int(np.ceil(theta * dim[k]))), dim, k)\n",
    "        Z[pos_missing] = np.mean(X + T / rho, axis = 0)[pos_missing]\n",
    "        T = T + rho * (X - np.broadcast_to(Z, np.insert(dim, 0, len(dim))))\n",
    "        tensor_hat = np.einsum('k, kmnt -> mnt', alpha, X)\n",
    "        tol = np.sqrt(np.sum((tensor_hat - last_tensor) ** 2)) / snorm\n",
    "        last_tensor = tensor_hat.copy()\n",
    "        it += 1\n",
    "        if (it + 1) % 50 == 0:\n",
    "            print('Iter: {}'.format(it + 1))\n",
    "            print('RMSE: {:.6}'.format(compute_rmse(dense_tensor[pos_test], tensor_hat[pos_test])))\n",
    "            print()\n",
    "        if (it >= maxiter):\n",
    "            break\n",
    "    print(dense_tensor[pos_test].shape)\n",
    "    print('Imputation MAE: {:.6}'.format(compute_mae(dense_tensor[pos_test], tensor_hat[pos_test])))\n",
    "    print('Imputation RMSE: {:.6}'.format(compute_rmse(dense_tensor[pos_test], tensor_hat[pos_test])))\n",
    "    print()\n",
    "    \n",
    "    return tensor_hat"
   ]
  },
  {
   "cell_type": "code",
   "execution_count": 85,
   "id": "c19b4e92-d060-4d60-9e00-b9cc530497dc",
   "metadata": {},
   "outputs": [
    {
     "data": {
      "text/plain": [
       "torch.Size([60, 288, 98])"
      ]
     },
     "execution_count": 85,
     "metadata": {},
     "output_type": "execute_result"
    }
   ],
   "source": [
    "import pandas as pd\n",
    "import torch\n",
    "test_truth = pd.read_csv('Data_Augmented.csv')\n",
    "test_truth  = test_truth.iloc[86400:103680,:]\n",
    "test_truth = torch.tensor(test_truth.values)\n",
    "test_truth = test_truth.reshape(60,288,98)\n",
    "test_truth.shape"
   ]
  },
  {
   "cell_type": "code",
   "execution_count": 86,
   "id": "cccc2586-a267-4a41-b89f-a9aaeb0d616a",
   "metadata": {},
   "outputs": [
    {
     "data": {
      "text/plain": [
       "torch.Size([60, 288, 98])"
      ]
     },
     "execution_count": 86,
     "metadata": {},
     "output_type": "execute_result"
    }
   ],
   "source": [
    "mask = pd.read_csv('12hr_BM.csv')\n",
    "mask = mask.iloc[86400:103680,:]\n",
    "mask = torch.tensor(mask.values)\n",
    "test_corrupted = pd.read_csv('Data_Augmented.csv')\n",
    "test_corrupted = test_corrupted.iloc[86400:103680,:]\n",
    "test_corrupted[mask.numpy()==False] = -1\n",
    "test_corrupted = torch.tensor(test_corrupted.values)\n",
    "test_corrupted = test_corrupted.reshape(60,288,98)\n",
    "test_corrupted.shape"
   ]
  },
  {
   "cell_type": "code",
   "execution_count": 87,
   "id": "9a49ddbb-33b4-45a4-bdfe-41e3ad16c66c",
   "metadata": {},
   "outputs": [
    {
     "name": "stdout",
     "output_type": "stream",
     "text": [
      "0\n"
     ]
    },
    {
     "name": "stderr",
     "output_type": "stream",
     "text": [
      "/tmp/ipykernel_223018/2871367667.py:18: DeprecationWarning: `np.int` is a deprecated alias for the builtin `int`. To silence this warning, use `int` by itself. Doing this will not modify any behavior and is safe. When replacing `np.int`, you may wish to use e.g. `np.int64` or `np.int32` to specify the precision. If you wish to review your current use, check the release note link for additional information.\n",
      "Deprecated in NumPy 1.20; for more details and guidance: https://numpy.org/devdocs/release/1.20.0-notes.html#deprecations\n",
      "  X[k] = mat2ten(svt_tnn(ten2mat(Z - T[k] / rho, k), alpha[k], rho, np.int(np.ceil(theta * dim[k]))), dim, k)\n"
     ]
    },
    {
     "name": "stdout",
     "output_type": "stream",
     "text": [
      "1\n",
      "2\n",
      "3\n",
      "4\n",
      "5\n",
      "6\n",
      "7\n",
      "8\n",
      "9\n",
      "10\n",
      "11\n",
      "12\n",
      "13\n",
      "14\n",
      "15\n",
      "16\n",
      "17\n",
      "18\n",
      "19\n",
      "20\n",
      "21\n",
      "22\n",
      "23\n",
      "24\n",
      "25\n",
      "26\n",
      "27\n",
      "28\n",
      "29\n",
      "30\n",
      "31\n",
      "32\n",
      "33\n",
      "34\n",
      "35\n",
      "36\n",
      "37\n",
      "38\n",
      "39\n",
      "40\n",
      "41\n",
      "42\n",
      "43\n",
      "44\n",
      "45\n",
      "46\n",
      "47\n",
      "48\n",
      "Iter: 50\n",
      "RMSE: 12.6988\n",
      "\n",
      "49\n",
      "(846720,)\n",
      "Imputation MAE: 7.20107\n",
      "Imputation RMSE: 12.6439\n",
      "\n",
      "Running time: 38858 seconds\n",
      "\n"
     ]
    }
   ],
   "source": [
    "import numpy as np\n",
    "import time\n",
    "import scipy.io\n",
    "\n",
    "alpha = np.ones(3) / 3\n",
    "rho = 1e-5\n",
    "theta = 0.1\n",
    "epsilon = 1e-4\n",
    "maxiter = 50\n",
    "pred = LRTC(test_truth.numpy(), test_corrupted.numpy(), alpha, rho, theta, epsilon, maxiter)\n",
    "end = time.time()\n",
    "print('Running time: %d seconds'%(end - start))\n",
    "print()"
   ]
  },
  {
   "cell_type": "code",
   "execution_count": 75,
   "id": "30683f6f-eccf-4534-a48a-2cf4c4ef9bb2",
   "metadata": {},
   "outputs": [
    {
     "name": "stdout",
     "output_type": "stream",
     "text": [
      "0\n"
     ]
    },
    {
     "name": "stderr",
     "output_type": "stream",
     "text": [
      "/tmp/ipykernel_223018/2871367667.py:18: DeprecationWarning: `np.int` is a deprecated alias for the builtin `int`. To silence this warning, use `int` by itself. Doing this will not modify any behavior and is safe. When replacing `np.int`, you may wish to use e.g. `np.int64` or `np.int32` to specify the precision. If you wish to review your current use, check the release note link for additional information.\n",
      "Deprecated in NumPy 1.20; for more details and guidance: https://numpy.org/devdocs/release/1.20.0-notes.html#deprecations\n",
      "  X[k] = mat2ten(svt_tnn(ten2mat(Z - T[k] / rho, k), alpha[k], rho, np.int(np.ceil(theta * dim[k]))), dim, k)\n"
     ]
    },
    {
     "name": "stdout",
     "output_type": "stream",
     "text": [
      "1\n",
      "2\n",
      "3\n",
      "4\n",
      "5\n",
      "6\n",
      "7\n",
      "8\n",
      "9\n",
      "10\n",
      "11\n",
      "12\n",
      "13\n",
      "14\n",
      "15\n",
      "16\n",
      "17\n",
      "18\n",
      "19\n",
      "20\n",
      "21\n",
      "22\n",
      "23\n",
      "24\n",
      "25\n",
      "26\n",
      "27\n",
      "28\n",
      "29\n",
      "30\n",
      "31\n",
      "32\n",
      "33\n",
      "34\n",
      "35\n",
      "36\n",
      "37\n",
      "38\n",
      "39\n",
      "40\n",
      "41\n",
      "42\n",
      "43\n",
      "44\n",
      "45\n",
      "46\n",
      "47\n",
      "48\n",
      "Iter: 50\n",
      "RMSE: 12.7693\n",
      "\n",
      "49\n",
      "50\n",
      "51\n",
      "52\n",
      "53\n",
      "54\n",
      "55\n",
      "56\n",
      "57\n",
      "58\n",
      "59\n",
      "60\n",
      "61\n",
      "62\n",
      "63\n",
      "64\n",
      "65\n",
      "66\n",
      "67\n",
      "68\n",
      "69\n",
      "70\n",
      "71\n",
      "72\n",
      "73\n",
      "74\n",
      "75\n",
      "76\n",
      "77\n",
      "78\n",
      "79\n",
      "80\n",
      "81\n",
      "82\n",
      "83\n",
      "84\n",
      "85\n",
      "86\n",
      "87\n",
      "88\n",
      "89\n",
      "90\n",
      "91\n",
      "92\n",
      "93\n",
      "94\n",
      "95\n",
      "96\n",
      "97\n",
      "98\n",
      "Iter: 100\n",
      "RMSE: 11.3775\n",
      "\n",
      "99\n",
      "(846720,)\n",
      "Imputation MAE: 5.91489\n",
      "Imputation RMSE: 11.3892\n",
      "\n",
      "Running time: 19 seconds\n",
      "\n"
     ]
    }
   ],
   "source": [
    "import numpy as np\n",
    "import time\n",
    "import scipy.io\n",
    "\n",
    "start = time.time()\n",
    "alpha = np.ones(3) / 3\n",
    "rho = 1e-5\n",
    "theta = 0.25\n",
    "epsilon = 1e-4\n",
    "maxiter = 100\n",
    "pred = LRTC(test_truth.numpy(), test_corrupted.numpy(), alpha, rho, theta, epsilon, maxiter)\n",
    "end = time.time()\n",
    "print('Running time: %d seconds'%(end - start))\n",
    "print()"
   ]
  },
  {
   "cell_type": "code",
   "execution_count": 88,
   "id": "7c67defa-7bd7-4e8b-980d-01274a3fdf1a",
   "metadata": {},
   "outputs": [],
   "source": [
    "import pandas as pd\n",
    "dtr = pd.date_range(start='2016-06-27', end='2016-08-26', freq='5min')\n",
    "\n",
    "pred = pred.reshape((pred.shape[0]*pred.shape[1]), pred.shape[2])\n",
    "pred = pd.DataFrame(pred)\n",
    "pred['tmst']=dtr[0:17280]\n",
    "pred.to_csv('./Model_results/12hrBM_LRTC_TNN_Imputed.csv', index=False)"
   ]
  },
  {
   "cell_type": "code",
   "execution_count": null,
   "id": "9c910389-7d05-4870-bf4d-a6a3543c1b6d",
   "metadata": {},
   "outputs": [],
   "source": []
  }
 ],
 "metadata": {
  "kernelspec": {
   "display_name": "Python 3 (ipykernel)",
   "language": "python",
   "name": "python3"
  },
  "language_info": {
   "codemirror_mode": {
    "name": "ipython",
    "version": 3
   },
   "file_extension": ".py",
   "mimetype": "text/x-python",
   "name": "python",
   "nbconvert_exporter": "python",
   "pygments_lexer": "ipython3",
   "version": "3.8.10"
  }
 },
 "nbformat": 4,
 "nbformat_minor": 5
}
